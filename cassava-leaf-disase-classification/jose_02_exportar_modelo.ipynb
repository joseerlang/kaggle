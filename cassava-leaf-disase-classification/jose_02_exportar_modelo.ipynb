{
 "cells": [
  {
   "cell_type": "code",
   "execution_count": 6,
   "metadata": {
    "ExecuteTime": {
     "end_time": "2020-12-05T11:53:02.409978Z",
     "start_time": "2020-12-05T11:53:00.292955Z"
    }
   },
   "outputs": [],
   "source": [
    "import pytorch_lightning as pl\n",
    "import torch \n",
    "from pytorch_lightning.metrics.functional.classification import accuracy\n",
    "from tqdm import tqdm\n",
    "from src import DataModule, Resnet\n",
    "import torchvision\n",
    "import pandas as pd \n",
    "import numpy as np\n",
    "from pathlib import Path\n",
    "from skimage import io"
   ]
  },
  {
   "cell_type": "markdown",
   "metadata": {},
   "source": [
    "Cargamos el modelo"
   ]
  },
  {
   "cell_type": "code",
   "execution_count": 7,
   "metadata": {
    "ExecuteTime": {
     "end_time": "2020-12-05T11:53:42.146445Z",
     "start_time": "2020-12-05T11:53:39.799933Z"
    }
   },
   "outputs": [
    {
     "data": {
      "text/plain": [
       "{'lr': 0.0003,\n",
       " 'optimizer': 'Adam',\n",
       " 'batch_size': 128,\n",
       " 'extra_data': 1,\n",
       " 'subset': 0,\n",
       " 'test_size': 0.2,\n",
       " 'seed': 42,\n",
       " 'backbone': 'resnet18',\n",
       " 'size': 512,\n",
       " 'train_trans': {'PadIfNeeded': {'min_height': 512,\n",
       "   'min_width': 512,\n",
       "   'border_mode': 0},\n",
       "  'RandomResizedCrop': {'height': 512, 'width': 512},\n",
       "  'HorizontalFlip': {},\n",
       "  'VerticalFlip': {}},\n",
       " 'val_trans': {'PadIfNeeded': {'min_height': 512,\n",
       "   'min_width': 512,\n",
       "   'border_mode': 0},\n",
       "  'CenterCrop': {'height': 512, 'width': 512}},\n",
       " 'precision': 16,\n",
       " 'max_epochs': 50,\n",
       " 'val_batches': 1.0}"
      ]
     },
     "execution_count": 7,
     "metadata": {},
     "output_type": "execute_result"
    }
   ],
   "source": [
    "checkpoint = torch.load('./resnet18-512-da-val_acc=0.87341.ckpt')\n",
    "hparams = checkpoint['hyper_parameters']\n",
    "hparams"
   ]
  },
  {
   "cell_type": "code",
   "execution_count": 8,
   "metadata": {
    "ExecuteTime": {
     "end_time": "2020-12-02T17:55:55.284894Z",
     "start_time": "2020-12-02T17:55:54.960896Z"
    }
   },
   "outputs": [
    {
     "data": {
      "text/plain": [
       "\"backbone\":    resnet18\n",
       "\"batch_size\":  128\n",
       "\"extra_data\":  1\n",
       "\"lr\":          0.0003\n",
       "\"max_epochs\":  50\n",
       "\"optimizer\":   Adam\n",
       "\"precision\":   16\n",
       "\"seed\":        42\n",
       "\"size\":        512\n",
       "\"subset\":      0\n",
       "\"test_size\":   0.2\n",
       "\"train_trans\": {'PadIfNeeded': {'min_height': 512, 'min_width': 512, 'border_mode': 0}, 'RandomResizedCrop': {'height': 512, 'width': 512}, 'HorizontalFlip': {}, 'VerticalFlip': {}}\n",
       "\"val_batches\": 1.0\n",
       "\"val_trans\":   {'PadIfNeeded': {'min_height': 512, 'min_width': 512, 'border_mode': 0}, 'CenterCrop': {'height': 512, 'width': 512}}"
      ]
     },
     "execution_count": 8,
     "metadata": {},
     "output_type": "execute_result"
    }
   ],
   "source": [
    "model = Resnet.load_from_checkpoint(checkpoint_path='./resnet18-512-da-val_acc=0.87341.ckpt')\n",
    "model.hparams"
   ]
  },
  {
   "cell_type": "code",
   "execution_count": 9,
   "metadata": {},
   "outputs": [
    {
     "name": "stdout",
     "output_type": "stream",
     "text": [
      "Training samples:  17117\n",
      "Validation samples:  4280\n"
     ]
    }
   ],
   "source": [
    "size = 256\n",
    "config = {\n",
    "    'lr': 3e-4,\n",
    "    'optimizer': 'Adam',\n",
    "    'batch_size': 256,\n",
    "    'max_epochs': 50,\n",
    "    'precision': 16,\n",
    "    'subset': 0,\n",
    "    'test_size': 0.2,\n",
    "    'seed': 42,\n",
    "    'size': 256,\n",
    "    'backbone': 'resnet18',\n",
    "    'val_batches': 1.0,\n",
    "    'extra_data': 0,\n",
    "    'train_trans': {\n",
    "        'CenterCrop': {\n",
    "            'height': size, \n",
    "            'width': size\n",
    "        }\n",
    "    },\n",
    "    'val_trans': {\n",
    "        'CenterCrop': {\n",
    "            'height': size, \n",
    "            'width': size\n",
    "        }\n",
    "    },\n",
    "}\n",
    "\n",
    "dm = DataModule(\n",
    "    file = 'train_extra.csv' if config['extra_data'] else 'train_old.csv', \n",
    "    **config\n",
    ")\n",
    "dm.setup()"
   ]
  },
  {
   "cell_type": "code",
   "execution_count": 10,
   "metadata": {
    "ExecuteTime": {
     "end_time": "2020-12-02T17:56:42.435822Z",
     "start_time": "2020-12-02T17:55:58.176523Z"
    }
   },
   "outputs": [
    {
     "name": "stderr",
     "output_type": "stream",
     "text": [
      "\n",
      "  0%|          | 0/17 [00:00<?, ?it/s]\u001b[A\n",
      "acc 0.79688:   0%|          | 0/17 [00:03<?, ?it/s]\u001b[A\n",
      "acc 0.79688:   6%|▌         | 1/17 [00:03<00:52,  3.28s/it]\u001b[A\n",
      "acc 0.80469:   6%|▌         | 1/17 [00:06<00:52,  3.28s/it]\u001b[A\n",
      "acc 0.80469:  12%|█▏        | 2/17 [00:06<00:49,  3.30s/it]\u001b[A\n",
      "acc 0.80990:  12%|█▏        | 2/17 [00:09<00:49,  3.30s/it]\u001b[A\n",
      "acc 0.80990:  18%|█▊        | 3/17 [00:09<00:46,  3.31s/it]\u001b[A\n",
      "acc 0.81543:  18%|█▊        | 3/17 [00:13<00:46,  3.31s/it]\u001b[A\n",
      "acc 0.81543:  24%|██▎       | 4/17 [00:13<00:43,  3.31s/it]\u001b[A\n",
      "acc 0.81406:  24%|██▎       | 4/17 [00:16<00:43,  3.31s/it]\u001b[A\n",
      "acc 0.81406:  29%|██▉       | 5/17 [00:16<00:39,  3.30s/it]\u001b[A\n",
      "acc 0.82161:  29%|██▉       | 5/17 [00:19<00:39,  3.30s/it]\u001b[A\n",
      "acc 0.82161:  35%|███▌      | 6/17 [00:19<00:36,  3.29s/it]\u001b[A\n",
      "acc 0.82868:  35%|███▌      | 6/17 [00:23<00:36,  3.29s/it]\u001b[A\n",
      "acc 0.82868:  41%|████      | 7/17 [00:23<00:32,  3.28s/it]\u001b[A\n",
      "acc 0.82373:  41%|████      | 7/17 [00:26<00:32,  3.28s/it]\u001b[A\n",
      "acc 0.82373:  47%|████▋     | 8/17 [00:26<00:29,  3.28s/it]\u001b[A\n",
      "acc 0.81814:  47%|████▋     | 8/17 [00:29<00:29,  3.28s/it]\u001b[A\n",
      "acc 0.81814:  53%|█████▎    | 9/17 [00:29<00:26,  3.29s/it]\u001b[A\n",
      "acc 0.81758:  53%|█████▎    | 9/17 [00:32<00:26,  3.29s/it]\u001b[A\n",
      "acc 0.81758:  59%|█████▉    | 10/17 [00:32<00:22,  3.28s/it]\u001b[A\n",
      "acc 0.81286:  59%|█████▉    | 10/17 [00:36<00:22,  3.28s/it]\u001b[A\n",
      "acc 0.81286:  65%|██████▍   | 11/17 [00:36<00:19,  3.27s/it]\u001b[A\n",
      "acc 0.81055:  65%|██████▍   | 11/17 [00:39<00:19,  3.27s/it]\u001b[A\n",
      "acc 0.81055:  71%|███████   | 12/17 [00:39<00:16,  3.28s/it]\u001b[A\n",
      "acc 0.80889:  71%|███████   | 12/17 [00:42<00:16,  3.28s/it]\u001b[A\n",
      "acc 0.80889:  76%|███████▋  | 13/17 [00:42<00:13,  3.28s/it]\u001b[A\n",
      "acc 0.80887:  76%|███████▋  | 13/17 [00:45<00:13,  3.28s/it]\u001b[A\n",
      "acc 0.80887:  82%|████████▏ | 14/17 [00:45<00:09,  3.27s/it]\u001b[A\n",
      "acc 0.80885:  82%|████████▏ | 14/17 [00:49<00:09,  3.27s/it]\u001b[A\n",
      "acc 0.80885:  88%|████████▊ | 15/17 [00:49<00:06,  3.28s/it]\u001b[A\n",
      "acc 0.80811:  88%|████████▊ | 15/17 [00:52<00:06,  3.28s/it]\u001b[A\n",
      "acc 0.80811:  94%|█████████▍| 16/17 [00:52<00:03,  3.29s/it]\u001b[A\n",
      "acc 0.81140:  94%|█████████▍| 16/17 [00:54<00:03,  3.29s/it]\u001b[A\n",
      "acc 0.81140: 100%|██████████| 17/17 [00:54<00:00,  3.23s/it]\u001b[A\n"
     ]
    }
   ],
   "source": [
    " def evaluate(model, dl):   \n",
    "    model.eval()\n",
    "    model.cuda()\n",
    "    acc = []\n",
    "    with torch.no_grad():\n",
    "        t = tqdm(dl)\n",
    "        for x, y in t:\n",
    "            x, y = x.cuda(), y.cuda()\n",
    "            y_hat = model(x)\n",
    "            acc.append(accuracy(y_hat, y).item())\n",
    "            t.set_description(f\"acc {np.mean(acc):.5f}\")\n",
    "            \n",
    "evaluate(model, dm.val_dataloader())"
   ]
  },
  {
   "cell_type": "code",
   "execution_count": 11,
   "metadata": {
    "ExecuteTime": {
     "end_time": "2020-12-02T17:56:42.450820Z",
     "start_time": "2020-12-02T17:56:42.437822Z"
    }
   },
   "outputs": [],
   "source": [
    "class Preprocess(torch.nn.Module):\n",
    "    def __init__(self):\n",
    "        super().__init__()\n",
    "    def forward(self, x):\n",
    "        x = x.float() / 255.\n",
    "        x = x.permute(0, 3, 1, 2)\n",
    "        return x \n",
    "    \n",
    "class Postprocess(torch.nn.Module):\n",
    "    def __init__(self):\n",
    "        super().__init__()\n",
    "    def forward(self, x):\n",
    "        return torch.argmax(x, dim=1)"
   ]
  },
  {
   "cell_type": "code",
   "execution_count": 12,
   "metadata": {
    "ExecuteTime": {
     "end_time": "2020-12-02T17:56:42.754922Z",
     "start_time": "2020-12-02T17:56:42.453823Z"
    }
   },
   "outputs": [],
   "source": [
    "script = torch.jit.script(torch.nn.Sequential(\n",
    "    Preprocess(),\n",
    "    model.resnet.cpu(),\n",
    "    Postprocess()\n",
    "))\n",
    "torch.jit.save(script, \"model.pt\")"
   ]
  },
  {
   "cell_type": "code",
   "execution_count": 13,
   "metadata": {
    "ExecuteTime": {
     "end_time": "2020-12-02T17:56:42.770930Z",
     "start_time": "2020-12-02T17:56:42.755923Z"
    }
   },
   "outputs": [],
   "source": [
    " def evaluate2(model, dl):   \n",
    "    model.eval()\n",
    "    model.cuda()\n",
    "    acc = []\n",
    "    with torch.no_grad():\n",
    "        t = tqdm(dl)\n",
    "        for x, y in t:\n",
    "            x, y = x.cuda(), y.cuda()\n",
    "            # simulate test\n",
    "            x *= 255. \n",
    "            x = x.permute(0, 2, 3, 1).long()\n",
    "            #print(x.shape, x.dtype, x.max(), x.min())\n",
    "            y_hat = model(x)\n",
    "            acc.append(accuracy(y_hat, y).item())\n",
    "            t.set_description(f\"acc {np.mean(acc):.5f}\")"
   ]
  },
  {
   "cell_type": "code",
   "execution_count": 14,
   "metadata": {
    "ExecuteTime": {
     "end_time": "2020-12-02T17:57:25.971483Z",
     "start_time": "2020-12-02T17:56:42.771930Z"
    }
   },
   "outputs": [
    {
     "name": "stderr",
     "output_type": "stream",
     "text": [
      "\n",
      "  0%|          | 0/17 [00:00<?, ?it/s]\u001b[A\n",
      "acc 0.79688:   0%|          | 0/17 [00:03<?, ?it/s]\u001b[A\n",
      "acc 0.79688:   6%|▌         | 1/17 [00:03<00:54,  3.42s/it]\u001b[A\n",
      "acc 0.80469:   6%|▌         | 1/17 [00:06<00:54,  3.42s/it]\u001b[A\n",
      "acc 0.80469:  12%|█▏        | 2/17 [00:06<00:51,  3.42s/it]\u001b[A\n",
      "acc 0.80990:  12%|█▏        | 2/17 [00:10<00:51,  3.42s/it]\u001b[A\n",
      "acc 0.80990:  18%|█▊        | 3/17 [00:10<00:47,  3.40s/it]\u001b[A\n",
      "acc 0.81543:  18%|█▊        | 3/17 [00:13<00:47,  3.40s/it]\u001b[A\n",
      "acc 0.81543:  24%|██▎       | 4/17 [00:13<00:43,  3.38s/it]\u001b[A\n",
      "acc 0.81406:  24%|██▎       | 4/17 [00:16<00:43,  3.38s/it]\u001b[A\n",
      "acc 0.81406:  29%|██▉       | 5/17 [00:16<00:40,  3.36s/it]\u001b[A\n",
      "acc 0.82161:  29%|██▉       | 5/17 [00:20<00:40,  3.36s/it]\u001b[A\n",
      "acc 0.82161:  35%|███▌      | 6/17 [00:20<00:36,  3.34s/it]\u001b[A\n",
      "acc 0.82868:  35%|███▌      | 6/17 [00:23<00:36,  3.34s/it]\u001b[A\n",
      "acc 0.82868:  41%|████      | 7/17 [00:23<00:33,  3.34s/it]\u001b[A\n",
      "acc 0.82373:  41%|████      | 7/17 [00:26<00:33,  3.34s/it]\u001b[A\n",
      "acc 0.82373:  47%|████▋     | 8/17 [00:26<00:29,  3.31s/it]\u001b[A\n",
      "acc 0.81814:  47%|████▋     | 8/17 [00:29<00:29,  3.31s/it]\u001b[A\n",
      "acc 0.81814:  53%|█████▎    | 9/17 [00:29<00:26,  3.30s/it]\u001b[A\n",
      "acc 0.81758:  53%|█████▎    | 9/17 [00:33<00:26,  3.30s/it]\u001b[A\n",
      "acc 0.81758:  59%|█████▉    | 10/17 [00:33<00:23,  3.31s/it]\u001b[A\n",
      "acc 0.81286:  59%|█████▉    | 10/17 [00:36<00:23,  3.31s/it]\u001b[A\n",
      "acc 0.81286:  65%|██████▍   | 11/17 [00:36<00:19,  3.32s/it]\u001b[A\n",
      "acc 0.81055:  65%|██████▍   | 11/17 [00:40<00:19,  3.32s/it]\u001b[A\n",
      "acc 0.81055:  71%|███████   | 12/17 [00:40<00:16,  3.35s/it]\u001b[A\n",
      "acc 0.80889:  71%|███████   | 12/17 [00:43<00:16,  3.35s/it]\u001b[A\n",
      "acc 0.80889:  76%|███████▋  | 13/17 [00:43<00:13,  3.35s/it]\u001b[A\n",
      "acc 0.80887:  76%|███████▋  | 13/17 [00:46<00:13,  3.35s/it]\u001b[A\n",
      "acc 0.80887:  82%|████████▏ | 14/17 [00:46<00:10,  3.34s/it]\u001b[A\n",
      "acc 0.80885:  82%|████████▏ | 14/17 [00:50<00:10,  3.34s/it]\u001b[A\n",
      "acc 0.80885:  88%|████████▊ | 15/17 [00:50<00:06,  3.35s/it]\u001b[A\n",
      "acc 0.80811:  88%|████████▊ | 15/17 [00:53<00:06,  3.35s/it]\u001b[A\n",
      "acc 0.80811:  94%|█████████▍| 16/17 [00:53<00:03,  3.33s/it]\u001b[A\n",
      "acc 0.81140:  94%|█████████▍| 16/17 [00:55<00:03,  3.33s/it]\u001b[A\n",
      "acc 0.81140: 100%|██████████| 17/17 [00:55<00:00,  3.28s/it]\u001b[A\n"
     ]
    }
   ],
   "source": [
    "loaded = torch.jit.load('model.pt')\n",
    "evaluate2(loaded, dm.val_dataloader())"
   ]
  },
  {
   "cell_type": "code",
   "execution_count": null,
   "metadata": {
    "ExecuteTime": {
     "end_time": "2020-12-02T17:57:25.986996Z",
     "start_time": "2020-12-02T17:57:25.973484Z"
    }
   },
   "outputs": [],
   "source": [
    "path = Path('./data/test_images')\n",
    "images = os.listdir(path)\n",
    "images_paths = [str(path/img) for img in images]\n",
    "len(images)"
   ]
  },
  {
   "cell_type": "code",
   "execution_count": null,
   "metadata": {
    "ExecuteTime": {
     "end_time": "2020-12-02T17:57:26.002995Z",
     "start_time": "2020-12-02T17:57:25.988996Z"
    }
   },
   "outputs": [],
   "source": [
    "def predict(model, images, bs=32):   \n",
    "    model.eval()\n",
    "    model.cuda()\n",
    "    preds = torch.tensor([]).cuda()\n",
    "    batches = len(images) // bs + 1\n",
    "    print(batches)\n",
    "    with torch.no_grad():\n",
    "        for b in tqdm(range(batches)):\n",
    "            imgs = images[bs*b:bs*(b+1)]\n",
    "            imgs = torch.from_numpy(np.array([io.imread(img) for img in imgs]))\n",
    "            y_hat = model(imgs.cuda())\n",
    "            preds = torch.cat([preds, y_hat])\n",
    "    return preds.long().cpu().numpy()"
   ]
  },
  {
   "cell_type": "code",
   "execution_count": null,
   "metadata": {
    "ExecuteTime": {
     "end_time": "2020-12-02T17:57:26.252996Z",
     "start_time": "2020-12-02T17:57:26.005998Z"
    }
   },
   "outputs": [],
   "source": [
    "loaded = torch.jit.load('model.pt')\n",
    "preds = predict(loaded, images_paths)\n",
    "preds"
   ]
  },
  {
   "cell_type": "code",
   "execution_count": null,
   "metadata": {
    "ExecuteTime": {
     "end_time": "2020-12-02T17:57:26.268997Z",
     "start_time": "2020-12-02T17:57:26.253996Z"
    }
   },
   "outputs": [],
   "source": [
    "submission = pd.DataFrame({'image_id': images, 'label': preds })\n",
    "submission"
   ]
  },
  {
   "cell_type": "code",
   "execution_count": null,
   "metadata": {
    "ExecuteTime": {
     "end_time": "2020-12-02T17:57:26.284996Z",
     "start_time": "2020-12-02T17:57:26.269997Z"
    }
   },
   "outputs": [],
   "source": [
    "submission.to_csv('submission.csv', index=False)"
   ]
  }
 ],
 "metadata": {
  "kernelspec": {
   "display_name": "Environment (conda_pytorch)",
   "language": "python",
   "name": "conda_pytorch"
  },
  "language_info": {
   "codemirror_mode": {
    "name": "ipython",
    "version": 3
   },
   "file_extension": ".py",
   "mimetype": "text/x-python",
   "name": "python",
   "nbconvert_exporter": "python",
   "pygments_lexer": "ipython3",
   "version": "3.7.6"
  },
  "toc": {
   "base_numbering": 1,
   "nav_menu": {},
   "number_sections": true,
   "sideBar": true,
   "skip_h1_title": false,
   "title_cell": "Table of Contents",
   "title_sidebar": "Contents",
   "toc_cell": false,
   "toc_position": {},
   "toc_section_display": true,
   "toc_window_display": false
  }
 },
 "nbformat": 4,
 "nbformat_minor": 4
}
